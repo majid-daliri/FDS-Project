{
 "cells": [
  {
   "cell_type": "code",
   "execution_count": null,
   "metadata": {},
   "outputs": [],
   "source": [
    "import pandas as pd\n",
    "\n",
    "data = pd.read_csv('california_housing.csv')\n",
    "\n",
    "data.dropna(inplace=True)\n",
    "\n",
    "categorical_columns = [\n",
    "    'Type', 'Heating', 'Cooling', 'Region', 'City', 'State', 'Flooring', 'Heating features',\n",
    "    'Cooling features', 'Appliances included', 'Laundry features', 'Parking features'\n",
    "]\n",
    "data = pd.get_dummies(data, columns=categorical_columns, drop_first=True)"
   ]
  },
  {
   "cell_type": "code",
   "execution_count": null,
   "metadata": {},
   "outputs": [],
   "source": [
    "from sklearn.preprocessing import StandardScaler\n",
    "scaler = StandardScaler()\n",
    "numerical_columns = [\n",
    "    'Year built', 'Lot', 'Bedrooms', 'Bathrooms', 'Full bathrooms',\n",
    "    'Total interior livable area', 'Total spaces', 'Garage spaces',\n",
    "    'Elementary School Score', 'Elementary School Distance', 'Middle School Score',\n",
    "    'Middle School Distance', 'High School Score', 'High School Distance',\n",
    "    'Tax assessed value', 'Annual tax amount'\n",
    "]\n",
    "data[numerical_columns] = scaler.fit_transform(data[numerical_columns])"
   ]
  },
  {
   "cell_type": "code",
   "execution_count": null,
   "metadata": {},
   "outputs": [],
   "source": [
    "import pymc as pm\n",
    "\n",
    "with pm.Model() as model:\n",
    "    alpha = pm.Normal('alpha', mu=0, sigma=10)\n",
    "    betas = pm.Normal('betas', mu=0, sigma=10, shape=len(data.columns) - 1)\n",
    "    \n",
    "    mu = alpha + pm.math.dot(data.drop('Listed Price', axis=1).values, betas)\n",
    "    \n",
    "    sigma = pm.HalfNormal('sigma', sigma=1)\n",
    "    Y_obs = pm.Normal('Y_obs', mu=mu, sigma=sigma, observed=data['Listed Price'])\n",
    "\n",
    "    trace = pm.sample(500, return_inferencedata=False)"
   ]
  },
  {
   "cell_type": "code",
   "execution_count": null,
   "metadata": {},
   "outputs": [],
   "source": [
    "import arviz as az\n",
    "\n",
    "az.plot_trace(trace)"
   ]
  }
 ],
 "metadata": {
  "language_info": {
   "name": "python"
  }
 },
 "nbformat": 4,
 "nbformat_minor": 2
}
